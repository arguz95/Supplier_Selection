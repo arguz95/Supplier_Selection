{
 "cells": [
  {
   "cell_type": "code",
   "execution_count": 41,
   "metadata": {},
   "outputs": [],
   "source": [
    "import pulp as plp\n",
    "from pulp import *\n",
    "\n",
    "import numpy as np\n",
    "import pandas as pd"
   ]
  },
  {
   "cell_type": "markdown",
   "metadata": {},
   "source": [
    "# Problem Data"
   ]
  },
  {
   "cell_type": "code",
   "execution_count": 42,
   "metadata": {},
   "outputs": [],
   "source": [
    "mine_list = ['Ashley','Bedford','Consol','Dunby','Earlam','Florence','Gaston','Hopt']\n",
    "\n",
    "mine_capacity = [300, 600, 510, 655, 575, 680, 450, 490] # (mt/yr)\n",
    "\n",
    "mine_price = [49500, 50000, 61000, 63500, 66500, 71000, 72500, 80000] # ($/mt)\n",
    "\n",
    "RHS = [1225, 0, 650, 720, 0]\n",
    "\n",
    "coeff_matrix = np.array([[1,1,1,1,1,1,1,1],\n",
    "                         [1,1,-1,1,-1,1,-1,-1],\n",
    "                         [1,0,1,0,0,0,1,1],\n",
    "                         [0,1,0,1,1,1,0,0],\n",
    "                         [-0.04,-0.03,-0.01,0.01,0.02,0.03,0.04,0.06]])"
   ]
  },
  {
   "cell_type": "code",
   "execution_count": 43,
   "metadata": {},
   "outputs": [],
   "source": [
    "n = len(mine_price)  # n = len(mine_list)  n = len(mine_capacity)\n",
    "m = len(RHS)\n",
    "\n",
    "set_I = range(1, n+1)\n",
    "set_J = range(1, m+1)\n",
    "\n",
    "c = {i: mine_capacity[i-1] for i in set_I}\n",
    "p = {i: mine_price[i-1] for i in set_I}\n",
    "\n",
    "b = {j: RHS[j-1] for j in set_J}\n",
    "a = {(j,i): coeff_matrix[j-1,i-1] for j in set_J for i in set_I}"
   ]
  },
  {
   "cell_type": "code",
   "execution_count": 44,
   "metadata": {},
   "outputs": [],
   "source": [
    "prob = LpProblem(\"Coal Supplier Selection\")\n",
    "prob.sense = LpMinimize"
   ]
  },
  {
   "cell_type": "code",
   "execution_count": 45,
   "metadata": {},
   "outputs": [],
   "source": [
    "x_vars = {i: \n",
    "          LpVariable(cat=LpContinuous, lowBound=0, upBound=c[i], name=\"x_\"+mine_list[i-1])\n",
    "          for i in set_I}"
   ]
  },
  {
   "cell_type": "code",
   "execution_count": 46,
   "metadata": {},
   "outputs": [],
   "source": [
    "constraints = {j: prob.addConstraint(\n",
    "    LpConstraint(e=lpSum(a[j,i] * x_vars[i] for i in set_I), sense=0, rhs=b[j], name=\"constraint_{0}\".format(j))) \n",
    "               for j in [1]} #different sense: sense = 0, 1: >=, -1: <="
   ]
  },
  {
   "cell_type": "code",
   "execution_count": 47,
   "metadata": {},
   "outputs": [],
   "source": [
    "constraints = {j: prob.addConstraint(\n",
    "    LpConstraint(e=lpSum(a[j,i] * x_vars[i] for i in set_I), sense=1, rhs=b[j], name=\"constraint_{0}\".format(j)))\n",
    "               for j in [2,5]} #different sense"
   ]
  },
  {
   "cell_type": "code",
   "execution_count": 48,
   "metadata": {},
   "outputs": [],
   "source": [
    "constraints = {j: prob.addConstraint(\n",
    "    LpConstraint(e=lpSum(a[j,i] * x_vars[i] for i in set_I), sense=-1, rhs=b[j], name=\"constraint_{0}\".format(j)))\n",
    "               for j in [3,4]} #different sense"
   ]
  },
  {
   "cell_type": "code",
   "execution_count": 49,
   "metadata": {},
   "outputs": [],
   "source": [
    "objective = lpSum(x_vars[i] * p[i] for i in set_I)\n",
    "prob.setObjective(objective) "
   ]
  },
  {
   "cell_type": "code",
   "execution_count": 50,
   "metadata": {},
   "outputs": [
    {
     "data": {
      "text/plain": [
       "1"
      ]
     },
     "execution_count": 50,
     "metadata": {},
     "output_type": "execute_result"
    }
   ],
   "source": [
    "prob.solve()"
   ]
  },
  {
   "cell_type": "code",
   "execution_count": 51,
   "metadata": {},
   "outputs": [
    {
     "name": "stdout",
     "output_type": "stream",
     "text": [
      "============================== \n",
      "Solution Status: Optimal\n",
      "The minimum coal procurement cost for next year is: $73267500.0\n",
      "Optimal Soultion:\n",
      "x_Ashley = 55.0\n",
      "x_Bedford = 600.0\n",
      "x_Consol = 0.0\n",
      "x_Dunby = 20.0\n",
      "x_Earlam = 100.0\n",
      "x_Florence = 0.0\n",
      "x_Gaston = 450.0\n",
      "x_Hopt = 0.0\n",
      "Constraints\n",
      "constraint_1 = 0.0\n",
      "constraint_2 = 125.0\n",
      "constraint_5 = 0.0\n",
      "constraint_3 = -145.0\n",
      "constraint_4 = 0.0\n"
     ]
    }
   ],
   "source": [
    "# The status of the solution is printed to the screen\n",
    "print(\"=\"*30,\"\\nSolution Status:\", LpStatus[prob.status])\n",
    "\n",
    "# Results\n",
    "obj = value(prob.objective)\n",
    "print(\"The minimum coal procurement cost for next year is: ${}\".format(round(obj,2)))\n",
    "\n",
    "print(\"Optimal Soultion:\")\n",
    "for v in prob.variables():\n",
    "    print(v.name, \"=\", v.varValue)\n",
    "\n",
    "print(\"Constraints\")\n",
    "for c in list(prob.constraints.values()):\n",
    "    print(c.name, \"=\", c.value())"
   ]
  },
  {
   "cell_type": "code",
   "execution_count": null,
   "metadata": {},
   "outputs": [],
   "source": []
  },
  {
   "cell_type": "code",
   "execution_count": null,
   "metadata": {},
   "outputs": [],
   "source": []
  },
  {
   "cell_type": "code",
   "execution_count": null,
   "metadata": {},
   "outputs": [],
   "source": []
  }
 ],
 "metadata": {
  "kernelspec": {
   "display_name": "Python 3",
   "language": "python",
   "name": "python3"
  },
  "language_info": {
   "codemirror_mode": {
    "name": "ipython",
    "version": 3
   },
   "file_extension": ".py",
   "mimetype": "text/x-python",
   "name": "python",
   "nbconvert_exporter": "python",
   "pygments_lexer": "ipython3",
   "version": "3.7.6"
  }
 },
 "nbformat": 4,
 "nbformat_minor": 2
}
