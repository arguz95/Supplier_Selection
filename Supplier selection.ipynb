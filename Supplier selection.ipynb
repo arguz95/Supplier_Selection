{
 "cells": [
  {
   "cell_type": "code",
   "execution_count": 3,
   "metadata": {},
   "outputs": [],
   "source": [
    "import pulp as plp\n",
    "from pulp import *\n",
    "import numpy as np"
   ]
  },
  {
   "cell_type": "code",
   "execution_count": 4,
   "metadata": {},
   "outputs": [],
   "source": [
    "mine_list = ['Ashley','Bedford','Consol','Dunby','Earlam','Florence','Gaston','Hopt']\n",
    "\n",
    "mine_capacity = [300, 600, 510, 655, 575, 680, 450, 490] # (mt/yr)\n",
    "mine_price = [49500, 50000, 61000, 63500, 66500, 71000, 72500, 80000] # ($/mt)\n",
    "\n",
    "RHS = [1225, -1225, 0, 650, 720, 0]\n",
    "\n",
    "coeff_matrix = np.array([[1,1,1,1,1,1,1,1],\n",
    "                         [-1,-1,-1,-1,-1,-1,-1,-1],\n",
    "                         [-1,-1,1,-1,1,-1,1,1],\n",
    "                         [1,0,1,0,0,0,1,1],\n",
    "                         [0,1,0,1,1,1,0,0],\n",
    "                         [0.04,0.03,0.01,-0.01,-0.02,-0.03,-0.04,-0.06]])"
   ]
  },
  {
   "cell_type": "code",
   "execution_count": 5,
   "metadata": {},
   "outputs": [],
   "source": [
    "n = len(mine_list)\n",
    "m = len(RHS)\n",
    "set_I = range(1,n+1)\n",
    "set_J = range(1,m+1)"
   ]
  },
  {
   "cell_type": "code",
   "execution_count": 7,
   "metadata": {},
   "outputs": [],
   "source": [
    "c = {i: mine_capacity[i-1] for i in set_I}\n",
    "p = {i: mine_price[i-1] for i in set_I}\n",
    "\n",
    "b = {j: RHS[j-1] for j in set_J}\n",
    "a = {(j,i): coeff_matrix[j-1,i-1] for j in set_J for i in set_I}"
   ]
  },
  {
   "cell_type": "code",
   "execution_count": 8,
   "metadata": {},
   "outputs": [
    {
     "name": "stderr",
     "output_type": "stream",
     "text": [
      "/opt/anaconda3/lib/python3.7/site-packages/pulp/pulp.py:1195: UserWarning: Spaces are not permitted in the name. Converted to '_'\n",
      "  warnings.warn(\"Spaces are not permitted in the name. Converted to '_'\")\n"
     ]
    }
   ],
   "source": [
    "prob = LpProblem(\"Supplier_selection_3\")\n",
    "prob.sense = LpMinimize"
   ]
  },
  {
   "cell_type": "code",
   "execution_count": 9,
   "metadata": {},
   "outputs": [],
   "source": [
    "x_vars = {i: \n",
    "         LpVariable(name = \"x_\"+mine_list[i-1], lowBound = 0, upBound = c[i], cat=LpContinuous)\n",
    "         for i in set_I}"
   ]
  },
  {
   "cell_type": "code",
   "execution_count": 10,
   "metadata": {},
   "outputs": [
    {
     "data": {
      "text/plain": [
       "{1: None, 2: None, 3: None, 4: None, 5: None, 6: None}"
      ]
     },
     "execution_count": 10,
     "metadata": {},
     "output_type": "execute_result"
    }
   ],
   "source": [
    "constraints = {j: prob.addConstraint(\n",
    "              LpConstraint(name = \"Constraint_{0}\".format(j), sense=-1, rhs = b[j], e = lpSum(a[j,i]*x_vars[i] for i in set_I)))\n",
    "               for j in set_J}\n",
    "constraints"
   ]
  },
  {
   "cell_type": "code",
   "execution_count": 8,
   "metadata": {},
   "outputs": [],
   "source": [
    "objective = lpSum(x_vars[i] * p[i] for i in set_I)\n",
    "prob.setObjective(objective)"
   ]
  },
  {
   "cell_type": "code",
   "execution_count": 9,
   "metadata": {},
   "outputs": [
    {
     "data": {
      "text/plain": [
       "1"
      ]
     },
     "execution_count": 9,
     "metadata": {},
     "output_type": "execute_result"
    }
   ],
   "source": [
    "prob.solve()"
   ]
  },
  {
   "cell_type": "code",
   "execution_count": 10,
   "metadata": {},
   "outputs": [
    {
     "name": "stdout",
     "output_type": "stream",
     "text": [
      "============================== \n",
      "Solution Status: Optimal\n",
      "The minimum coal procurement cost for next year is: $73267500.0\n",
      "Optimal Soultion:\n",
      "x_Ashley = 55.0\n",
      "x_Bedford = 600.0\n",
      "x_Consol = 0.0\n",
      "x_Dunby = 20.0\n",
      "x_Earlam = 100.0\n",
      "x_Florence = 0.0\n",
      "x_Gaston = 450.0\n",
      "x_Hopt = 0.0\n",
      "Constraints\n",
      "Constraint_1 = 0.0\n",
      "Constraint_2 = 0.0\n",
      "Constraint_3 = -125.0\n",
      "Constraint_4 = -145.0\n",
      "Constraint_5 = 0.0\n",
      "Constraint_6 = 0.0\n"
     ]
    }
   ],
   "source": [
    "# The status of the solution is printed to the screen\n",
    "print(\"=\"*30,\"\\nSolution Status:\", plp.LpStatus[prob.status])\n",
    "\n",
    "# Results\n",
    "obj = plp.value(prob.objective)\n",
    "print(\"The minimum coal procurement cost for next year is: ${}\".format(round(obj,2)))\n",
    "\n",
    "print(\"Optimal Soultion:\")\n",
    "for v in prob.variables():\n",
    "    print(v.name, \"=\", v.varValue)\n",
    "\n",
    "print(\"Constraints\")\n",
    "for c in list(prob.constraints.values()):\n",
    "    print(c.name, \"=\", c.value())"
   ]
  },
  {
   "cell_type": "code",
   "execution_count": null,
   "metadata": {},
   "outputs": [],
   "source": []
  }
 ],
 "metadata": {
  "kernelspec": {
   "display_name": "Python 3",
   "language": "python",
   "name": "python3"
  },
  "language_info": {
   "codemirror_mode": {
    "name": "ipython",
    "version": 3
   },
   "file_extension": ".py",
   "mimetype": "text/x-python",
   "name": "python",
   "nbconvert_exporter": "python",
   "pygments_lexer": "ipython3",
   "version": "3.7.6"
  }
 },
 "nbformat": 4,
 "nbformat_minor": 2
}
